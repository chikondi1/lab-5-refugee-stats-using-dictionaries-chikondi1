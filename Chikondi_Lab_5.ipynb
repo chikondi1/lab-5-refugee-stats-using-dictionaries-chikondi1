{
  "nbformat": 4,
  "nbformat_minor": 0,
  "metadata": {
    "colab": {
      "name": "Chikondi Lab 5.ipynb",
      "provenance": [],
      "collapsed_sections": [],
      "authorship_tag": "ABX9TyPUslG+AGKmR/eqC1gUucn2",
      "include_colab_link": true
    },
    "kernelspec": {
      "name": "python3",
      "display_name": "Python 3"
    }
  },
  "cells": [
    {
      "cell_type": "markdown",
      "metadata": {
        "id": "view-in-github",
        "colab_type": "text"
      },
      "source": [
        "<a href=\"https://colab.research.google.com/github/chikondi1/lab-5-refugee-stats-using-dictionaries-chikondi1/blob/main/Chikondi_Lab_5.ipynb\" target=\"_parent\"><img src=\"https://colab.research.google.com/assets/colab-badge.svg\" alt=\"Open In Colab\"/></a>"
      ]
    },
    {
      "cell_type": "code",
      "metadata": {
        "id": "etdDQhuRCX6j"
      },
      "source": [
        "'''\n",
        "Chikondi Thangata\n",
        "1 October 2020\n",
        "Python 3.8.5\n",
        "This code creates a dictionary of refugee data from 5 different countries. The inputs are country names and number of refguees and the outputs are a dictionary that includes keys and values that allow the code to display the number of refugees in each country. \n",
        "'''"
      ],
      "execution_count": null,
      "outputs": []
    },
    {
      "cell_type": "code",
      "metadata": {
        "id": "Y7P-um2qFoxY",
        "colab": {
          "base_uri": "https://localhost:8080/",
          "height": 34
        },
        "outputId": "dd18a042-a13e-47fd-eee4-df5527c4f690"
      },
      "source": [
        "#I imported BeautifulSoup in order to webscrape the page and add up the refugee numbers, however I wasn't fully successful with this.\n",
        "#import requests\n",
        "#from bs4 import BeautifulSoup\n",
        "\n",
        "#I tried to webscrape the page using BeautifulSoup, however I wasn't completely successful. I used Chad as an example as it was the first country in the list, and the code was able to webscrape everywhere that equaled Chad, however I wasn't sure how to select the numbers from specifically 2014. \n",
        "#url = \"https://en.wikipedia.org/wiki/Refugee_camp\"\n",
        "#page = requests.get(url)\n",
        "#soup=BeautifulSoup(page.content,\"html.parser\")\n",
        "\n",
        "#camp_chad = soup.find_all('td')\n",
        "#for i in camp_chad:\n",
        "#  country=i.text.strip()\n",
        "#   if (country == 'Chad'):\n",
        "#      print(country)\n",
        "\n",
        "\n",
        "#This is a dictionary with 5 key-value pairs of countries and the number of refugees in the country for 2014. The numbers were calculated by converting the table on the webpage to an Excel file and using SUM to add the numbers up. \n",
        "countrylist = {'KENYA':506508,'SUDAN':74362,'ETHIOPIA':503120,'ZAMBIA':8410,'PAKISTAN':416865,'THAILAND':122349} #These type of brackets are used as it is a list in a dictionary. \n",
        "print(countrylist)"
      ],
      "execution_count": null,
      "outputs": [
        {
          "output_type": "stream",
          "text": [
            "{'KENYA': 506508, 'SUDAN': 74362, 'ETHIOPIA': 503120, 'ZAMBIA': 8410, 'PAKISTAN': 416865, 'THAILAND': 122349}\n"
          ],
          "name": "stdout"
        }
      ]
    },
    {
      "cell_type": "code",
      "metadata": {
        "id": "KeD0QwCjF2qW",
        "colab": {
          "base_uri": "https://localhost:8080/",
          "height": 119
        },
        "outputId": "cb4ce1ee-c9e3-4b48-9f98-ee5d87322e08"
      },
      "source": [
        "#The keys display the country names.\n",
        "def printDictionary(dicInput): \n",
        "  for(x) in dicInput.keys(): \n",
        "    print(x) \n",
        "\n",
        "printDictionary(countrylist)"
      ],
      "execution_count": null,
      "outputs": [
        {
          "output_type": "stream",
          "text": [
            "KENYA\n",
            "SUDAN\n",
            "ETHIOPIA\n",
            "ZAMBIA\n",
            "PAKISTAN\n",
            "THAILAND\n"
          ],
          "name": "stdout"
        }
      ]
    },
    {
      "cell_type": "code",
      "metadata": {
        "id": "Eos4N6gQGPs5",
        "colab": {
          "base_uri": "https://localhost:8080/",
          "height": 119
        },
        "outputId": "960f19d2-0bcd-4f7c-c866-79c8c83c03c7"
      },
      "source": [
        "#The values here are the number of refugees. By adding .values() to the countrylist, we are able to just pick out the integers.\n",
        "def printDictionary(dicInput): \n",
        "  for(y) in dicInput.values(): \n",
        "    print(y) \n",
        "\n",
        "printDictionary(countrylist)"
      ],
      "execution_count": null,
      "outputs": [
        {
          "output_type": "stream",
          "text": [
            "506508\n",
            "74362\n",
            "503120\n",
            "8410\n",
            "416865\n",
            "122349\n"
          ],
          "name": "stdout"
        }
      ]
    },
    {
      "cell_type": "code",
      "metadata": {
        "id": "tEjng4pFG-dJ",
        "colab": {
          "base_uri": "https://localhost:8080/",
          "height": 119
        },
        "outputId": "783a6c27-a15e-451f-8e31-054bd54d1a0f"
      },
      "source": [
        "def printDictionary(dicInput): #This function allows the values to be displayed outside of the list. \n",
        "  for(x,y) in dicInput.items(): #x and y refer to the keys and the values, respectively. \n",
        "    print(x, \"has\" ,y, \"refugees.\") #The statement is printed with a script in the middle of it so that it can read as a statement. \n",
        "\n",
        "printDictionary(countrylist)"
      ],
      "execution_count": null,
      "outputs": [
        {
          "output_type": "stream",
          "text": [
            "KENYA has 506508 refugees.\n",
            "SUDAN has 74362 refugees.\n",
            "ETHIOPIA has 503120 refugees.\n",
            "ZAMBIA has 8410 refugees.\n",
            "PAKISTAN has 416865 refugees.\n",
            "THAILAND has 122349 refugees.\n"
          ],
          "name": "stdout"
        }
      ]
    }
  ]
}